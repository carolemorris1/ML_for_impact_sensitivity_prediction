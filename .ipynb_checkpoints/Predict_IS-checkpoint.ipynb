{
 "cells": [
  {
   "cell_type": "code",
   "execution_count": 1,
   "id": "0c532d09-a847-4bb0-ae7c-703d95ce4111",
   "metadata": {},
   "outputs": [],
   "source": [
    "# Utils\n",
    "import joblib \n",
    "import pandas as pd\n",
    "import numpy as np\n",
    "import matplotlib.pyplot as plt\n",
    "import seaborn as sns\n",
    "\n",
    "# Pre-processing\n",
    "from sklearn.preprocessing import StandardScaler, MinMaxScaler, label_binarize\n",
    "from sklearn.compose import ColumnTransformer\n",
    "from sklearn.pipeline import Pipeline\n",
    "from sklearn.preprocessing import FunctionTransformer, StandardScaler, MinMaxScaler\n",
    "\n",
    "# Model training\n",
    "import lightgbm as lgb\n",
    "from sklearn.svm import LinearSVC\n",
    "from sklearn.linear_model import LogisticRegression\n",
    "from sklearn.ensemble import RandomForestClassifier\n",
    "from hyperopt import STATUS_OK, Trials, fmin, hp, tpe\n",
    "\n",
    "# Model evaluation\n",
    "import shap\n",
    "from sklearn.metrics import classification_report, accuracy_score, confusion_matrix, ConfusionMatrixDisplay, roc_auc_score\n",
    "from sklearn.model_selection import GridSearchCV, cross_val_score, StratifiedKFold, train_test_split\n",
    "from sklearn.metrics import mean_squared_error as mse\n",
    "from sklearn.metrics import mean_absolute_error as mae\n",
    "from sklearn.utils.class_weight import compute_sample_weight"
   ]
  },
  {
   "cell_type": "markdown",
   "id": "bc41fa8a-15b5-4a18-9051-1316b792ac10",
   "metadata": {},
   "source": [
    "### Load column transfomers and models"
   ]
  },
  {
   "cell_type": "code",
   "execution_count": 2,
   "id": "93e1b7fe-85d1-4c94-9e77-58fcb879fad3",
   "metadata": {},
   "outputs": [],
   "source": [
    "log_transfomer = joblib.load(\"saved_models/log_transformer.joblib\")\n",
    "scaler = joblib.load(\"saved_models/column_transformer.joblib\")\n",
    "\n",
    "lr_models = joblib.load(\"saved_models/logreg_models.joblib\")\n",
    "svc_models = joblib.load(\"saved_models/svc_models.joblib\")\n",
    "rf_models = joblib.load(\"saved_models/rf_models.joblib\")\n",
    "lgb_models = joblib.load(\"saved_models/lgb_models.joblib\")"
   ]
  },
  {
   "cell_type": "code",
   "execution_count": null,
   "id": "a1829c2e-0e19-4aa9-bf38-f3aff5e36452",
   "metadata": {},
   "outputs": [],
   "source": []
  }
 ],
 "metadata": {
  "kernelspec": {
   "display_name": "Python 3 (ipykernel)",
   "language": "python",
   "name": "python3"
  },
  "language_info": {
   "codemirror_mode": {
    "name": "ipython",
    "version": 3
   },
   "file_extension": ".py",
   "mimetype": "text/x-python",
   "name": "python",
   "nbconvert_exporter": "python",
   "pygments_lexer": "ipython3",
   "version": "3.9.22"
  }
 },
 "nbformat": 4,
 "nbformat_minor": 5
}
