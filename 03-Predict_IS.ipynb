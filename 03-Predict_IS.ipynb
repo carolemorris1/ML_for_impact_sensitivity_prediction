{
 "cells": [
  {
   "cell_type": "code",
   "execution_count": 1,
   "id": "0c532d09-a847-4bb0-ae7c-703d95ce4111",
   "metadata": {},
   "outputs": [],
   "source": [
    "# Utils\n",
    "import joblib \n",
    "import pandas as pd\n",
    "\n",
    "# Pre-processing\n",
    "from sklearn.preprocessing import StandardScaler, MinMaxScaler\n",
    "from sklearn.compose import ColumnTransformer\n",
    "from sklearn.pipeline import Pipeline\n",
    "from preprocess_newdata import preprocess_input_data"
   ]
  },
  {
   "cell_type": "markdown",
   "id": "bc41fa8a-15b5-4a18-9051-1316b792ac10",
   "metadata": {},
   "source": [
    "### Load column transfomers and models"
   ]
  },
  {
   "cell_type": "code",
   "execution_count": 2,
   "id": "93e1b7fe-85d1-4c94-9e77-58fcb879fad3",
   "metadata": {},
   "outputs": [],
   "source": [
    "log_transformer = joblib.load(\"saved_models/log_transformer.joblib\")\n",
    "scaler = joblib.load(\"saved_models/column_transformer.joblib\")\n",
    "\n",
    "lr_models = joblib.load(\"saved_models/logreg_models.joblib\")\n",
    "svc_models = joblib.load(\"saved_models/svc_models.joblib\")\n",
    "rf_models = joblib.load(\"saved_models/rf_models.joblib\")\n",
    "lgb_models = joblib.load(\"saved_models/lgb_models.joblib\")"
   ]
  },
  {
   "cell_type": "markdown",
   "id": "5a3a0b32-64ea-4890-a161-ba17adf7a8ce",
   "metadata": {},
   "source": [
    "### Load Data -- Should be output of FeatureExtractor script"
   ]
  },
  {
   "cell_type": "code",
   "execution_count": 3,
   "id": "24defef5-2b7b-4fc7-8455-70f1122748bb",
   "metadata": {},
   "outputs": [],
   "source": [
    "df_ready = preprocess_input_data(\n",
    "    \"DataOutput.xlsx\",\n",
    "    log_transformer=log_transformer,\n",
    "    scaler=scaler\n",
    ")"
   ]
  },
  {
   "cell_type": "markdown",
   "id": "824306e2-51e4-47a0-a182-85a9eef463c9",
   "metadata": {},
   "source": [
    "### Make Predictions"
   ]
  },
  {
   "cell_type": "markdown",
   "id": "6c7e8b6c-7aad-40be-84fc-6415e9a30730",
   "metadata": {},
   "source": [
    "#### Binary"
   ]
  },
  {
   "cell_type": "code",
   "execution_count": 4,
   "id": "3957cc30-20e4-41bd-8772-970b2fd6d295",
   "metadata": {},
   "outputs": [
    {
     "data": {
      "text/plain": [
       "array([1, 1, 1])"
      ]
     },
     "execution_count": 4,
     "metadata": {},
     "output_type": "execute_result"
    }
   ],
   "source": [
    "rf_models['binary'].predict(df_ready)"
   ]
  },
  {
   "cell_type": "markdown",
   "id": "19f22e5d-518f-47bd-a863-12fa70ff0a4b",
   "metadata": {},
   "source": [
    "#### Tertiary"
   ]
  },
  {
   "cell_type": "code",
   "execution_count": 5,
   "id": "ea06a48c-0818-44d8-95d3-ccb0ca6d2954",
   "metadata": {},
   "outputs": [
    {
     "data": {
      "text/plain": [
       "array([1, 2, 2])"
      ]
     },
     "execution_count": 5,
     "metadata": {},
     "output_type": "execute_result"
    }
   ],
   "source": [
    "rf_models['tertiary'].predict(df_ready)"
   ]
  },
  {
   "cell_type": "markdown",
   "id": "913322d2-bfbd-4cd7-8ed1-e379de128c72",
   "metadata": {},
   "source": [
    "#### Quaternary\n"
   ]
  },
  {
   "cell_type": "code",
   "execution_count": 6,
   "id": "3687ca30-e2c0-43d9-95ec-9209f11820e8",
   "metadata": {},
   "outputs": [
    {
     "data": {
      "text/plain": [
       "array([2, 3, 3])"
      ]
     },
     "execution_count": 6,
     "metadata": {},
     "output_type": "execute_result"
    }
   ],
   "source": [
    "rf_models['quaternary'].predict(df_ready)"
   ]
  },
  {
   "cell_type": "markdown",
   "id": "a9fbb051-8bbd-40cf-b7de-434dbe1e7363",
   "metadata": {},
   "source": [
    "#### Quintenary"
   ]
  },
  {
   "cell_type": "code",
   "execution_count": 7,
   "id": "51318ad1-69e5-4df3-9c46-138ecd5a84a1",
   "metadata": {},
   "outputs": [
    {
     "data": {
      "text/plain": [
       "array([2, 4, 4])"
      ]
     },
     "execution_count": 7,
     "metadata": {},
     "output_type": "execute_result"
    }
   ],
   "source": [
    "lr_models['quintenary'].predict(df_ready)"
   ]
  }
 ],
 "metadata": {
  "kernelspec": {
   "display_name": "Python 3 (ipykernel)",
   "language": "python",
   "name": "python3"
  },
  "language_info": {
   "codemirror_mode": {
    "name": "ipython",
    "version": 3
   },
   "file_extension": ".py",
   "mimetype": "text/x-python",
   "name": "python",
   "nbconvert_exporter": "python",
   "pygments_lexer": "ipython3",
   "version": "3.9.22"
  }
 },
 "nbformat": 4,
 "nbformat_minor": 5
}
